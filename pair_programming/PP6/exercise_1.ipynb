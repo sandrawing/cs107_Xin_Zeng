{
 "cells": [
  {
   "cell_type": "markdown",
   "metadata": {},
   "source": [
    "| trace  | elem op. | value            | elem der.              | grad x | grad y         |\n",
    "| ------ |:--------:| ----------------:|---------------------------| ------:| -------------------:|\n",
    "| x      |   input  |$\\frac{\\pi}{2}$   |       1                |   1    |   0             |\n",
    "| y      |   input  |  $\\frac{\\pi}{3}$ |       1                |   0    |   1              |\n",
    "| $v_1 $   |  sin(x)  |     1            |  $cos(x)\\dot{x}$         |   0    |   0              |\n",
    "| $v_2 $   |  cos(y)  |   $\\frac{1}{2}$  |  $-sin(y)\\dot{y}$       |  0     | $\\frac{\\sqrt{3}}{2}$ |\n",
    "|$ v_3 $   |$v_1 - v_2$ |   $\\frac{1}{2}$  | $\\dot(v_1) - \\dot(v_2) $ |  0     |  $- \\frac{\\sqrt{3}}{2}$   |\n",
    "|$ v_4   $ | $ -v_3^2 $ |   $ -\\frac{1}{4}$  |  $-2 v_3 \\dot(v_3) $     |  0    |     $ \\frac{\\sqrt{3}}{2} $           |\n",
    "|$ v_5$    |$\\exp(v_4)$ |$\\exp(-\\frac{1}{4})$|  $ \\exp(v_4) \\dot(v_4）$  |  0     |  $\\exp( -\\frac{1}{4} )  \\times \\frac{\\sqrt{3}}{2} $  |"
   ]
  }
 ],
 "metadata": {
  "kernelspec": {
   "display_name": "Python 3",
   "language": "python",
   "name": "python3"
  },
  "language_info": {
   "codemirror_mode": {
    "name": "ipython",
    "version": 3
   },
   "file_extension": ".py",
   "mimetype": "text/x-python",
   "name": "python",
   "nbconvert_exporter": "python",
   "pygments_lexer": "ipython3",
   "version": "3.8.3"
  }
 },
 "nbformat": 4,
 "nbformat_minor": 4
}
