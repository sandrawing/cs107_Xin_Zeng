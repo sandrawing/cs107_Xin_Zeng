{
 "cells": [
  {
   "cell_type": "markdown",
   "metadata": {},
   "source": [
    "#### f1 = x^2 +y^2\n",
    "| trace  | elem op. | value            | elem der.              | grad x | grad y         |\n",
    "| ------ |:--------:| ----------------:|------------------------| ------:| --------------:|\n",
    "|  x     |   input  |       1          |      1                 |   1    |        0       |\n",
    "| y      |   input  |  1               |       1                |   0    |   1            |\n",
    "| $v_1$    |  $x^2$     |      1           |  $2x\\dot(x)$             |   2    |   0            |\n",
    "| $v_2$   |  $y^2$     |   1              |  $2y\\dot(y)$            |  0     | 2              |\n",
    "| $v_3$    |$v_1 + v_2$ |    2             | $\\dot(v_1) - \\dot(v_2)$  |  0     | 0              |\n",
    "\n",
    "\n",
    "#### f2 = exp(x+y)\n",
    "| trace  | elem op. | value          | elem der.              | grad x | grad y     |\n",
    "| ------ |:--------:| --------------:|------------------------| ------:| ----------:|\n",
    "| $x$      |   input  |        1       |      1                 |   1    |   0        |\n",
    "| $y$      |   input  |        1       |       1                |   0    |   1        |\n",
    "| $v_1$    |  $x+y$     |     2          |  $\\dot(x) + \\dot(y)$     |   1    |   1         |\n",
    "| $v_2$    |$\\exp(v_1)$ |    $\\exp(2)$     |   $\\exp(v_1) \\dot(v_1)$| $\\exp(1)$ | $\\exp(1)$     |"
   ]
  },
  {
   "cell_type": "code",
   "execution_count": null,
   "metadata": {},
   "outputs": [],
   "source": []
  }
 ],
 "metadata": {
  "kernelspec": {
   "display_name": "Python 3",
   "language": "python",
   "name": "python3"
  },
  "language_info": {
   "codemirror_mode": {
    "name": "ipython",
    "version": 3
   },
   "file_extension": ".py",
   "mimetype": "text/x-python",
   "name": "python",
   "nbconvert_exporter": "python",
   "pygments_lexer": "ipython3",
   "version": "3.8.3"
  }
 },
 "nbformat": 4,
 "nbformat_minor": 4
}
